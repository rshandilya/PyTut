{
 "cells": [
  {
   "cell_type": "markdown",
   "metadata": {},
   "source": [
    "## Game of Life\n",
    "\n",
    "#### Rule of the game:\n",
    "* If the cell is live and no of live neighbour cells is 0 or 1, next generation it will die out of loneliness.\n",
    "* If the cell is live and no of live neighbour cells is 2 or 3, in next generation it will survive.\n",
    "* If the cell is live and no of live neighbour cells is 4 or more, in next generation it will die out of over population\n",
    "* If the cell is dead and no of live neighbour cells is exactly 3, it become life in next generation."
   ]
  },
  {
   "cell_type": "code",
   "execution_count": null,
   "metadata": {},
   "outputs": [],
   "source": []
  },
  {
   "cell_type": "code",
   "execution_count": null,
   "metadata": {},
   "outputs": [],
   "source": []
  }
 ],
 "metadata": {
  "kernelspec": {
   "display_name": "Python 3",
   "language": "python",
   "name": "python3"
  },
  "language_info": {
   "codemirror_mode": {
    "name": "ipython",
    "version": 3
   },
   "file_extension": ".py",
   "mimetype": "text/x-python",
   "name": "python",
   "nbconvert_exporter": "python",
   "pygments_lexer": "ipython3",
   "version": "3.7.2"
  }
 },
 "nbformat": 4,
 "nbformat_minor": 2
}
