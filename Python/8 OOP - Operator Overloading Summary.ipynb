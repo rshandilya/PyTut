{
 "cells": [
  {
   "cell_type": "markdown",
   "metadata": {},
   "source": [
    "# Operator Overloading\n",
    "\n",
    "Operator overloading simply means intercepting built-in operations in a class’s\n",
    "methods—Python automatically invokes your methods when instances of the class\n",
    "appear in built-in operations, and your method’s return value becomes the result of the\n",
    "corresponding operation. \n",
    "\n",
    "* Operator overloading lets classes intercept normal Python operations.\n",
    "* Classes can overload all Python expression operators.\n",
    "* Classes can also overload built-in operations such as printing, function calls, attribute access, etc.\n",
    "* Overloading makes class instances act more like built-in types.\n",
    "* Overloading is implemented by providing specially named methods in a class."
   ]
  },
  {
   "cell_type": "markdown",
   "metadata": {},
   "source": [
    "## Numerical Operator"
   ]
  },
  {
   "cell_type": "markdown",
   "metadata": {},
   "source": [
    "## Comparison Operator"
   ]
  },
  {
   "cell_type": "markdown",
   "metadata": {},
   "source": [
    "## Logical Operators"
   ]
  },
  {
   "cell_type": "markdown",
   "metadata": {},
   "source": [
    "## Collection Protocols\n",
    "In Python, a protocol is a group of operations or methods that a type must support if it is to implement\n",
    "that protocol.\n",
    "\n",
    "* **Container protocol** : The container protocol requires that membership testing using the **in** and **not in** operators   be supported \n",
    "                e.g. str, list, dict, range, tuple, set, bytes\n",
    "* **sized protocol** :  requires that the number of elements in a collection can be determined by calling **len(sized_collection)**\n",
    "                e.g str, list, dict, range, tuple, set, bytes\n",
    "* **iterable protocol** iterables provide a means for yielding elements one-by-one as they are requested, can be used with *for* loops.\n",
    "                e.g str, list, dict, range, tuple, set, bytes\n",
    "* **sequence protocol** : requires that items can be retrieved using square brackets with an integer index, can be searched for with **index()**, can be counted with **count()**, a reversed copy of the sequence can be produced with **reversed()**.\n",
    "                e.g str, list, tuple, range, bytes"
   ]
  },
  {
   "cell_type": "code",
   "execution_count": null,
   "metadata": {},
   "outputs": [],
   "source": [
    "# __iter__, __next__, __getitem__, __setitem__, __delitem__, __len__, __contains__, "
   ]
  }
 ],
 "metadata": {
  "kernelspec": {
   "display_name": "Python 3",
   "language": "python",
   "name": "python3"
  },
  "language_info": {
   "codemirror_mode": {
    "name": "ipython",
    "version": 3
   },
   "file_extension": ".py",
   "mimetype": "text/x-python",
   "name": "python",
   "nbconvert_exporter": "python",
   "pygments_lexer": "ipython3",
   "version": "3.7.2"
  }
 },
 "nbformat": 4,
 "nbformat_minor": 2
}
