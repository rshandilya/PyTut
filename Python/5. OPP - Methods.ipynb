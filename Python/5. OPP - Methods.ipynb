{
 "cells": [
  {
   "cell_type": "markdown",
   "metadata": {},
   "source": [
    "# Methods"
   ]
  },
  {
   "cell_type": "code",
   "execution_count": 2,
   "metadata": {},
   "outputs": [
    {
     "name": "stdout",
     "output_type": "stream",
     "text": [
      "instance call\n",
      "another inst call\n"
     ]
    }
   ],
   "source": [
    "class NextClass: # Define class\n",
    "    def printer(self, text): # Define method\n",
    "        self.message = text # Change instance\n",
    "        print(self.message)\n",
    "        \n",
    "x = NextClass()\n",
    "x.printer('instance call')\n",
    "NextClass.printer(x, 'another inst call')     # same as above\n",
    "x.message"
   ]
  },
  {
   "cell_type": "markdown",
   "metadata": {},
   "source": [
    "### Counting Number of Instance"
   ]
  },
  {
   "cell_type": "code",
   "execution_count": 6,
   "metadata": {},
   "outputs": [],
   "source": [
    "class Spam:\n",
    "    numInstances = 0\n",
    "    \n",
    "    def __init__(self):\n",
    "        Spam.numInstances = Spam.numInstances + 1\n",
    "    \n",
    "    #def printNumInstances():\n",
    "        #print(\"Number of instances created: %s\" % Spam.numInstances)\n",
    "    \n",
    "    def printNumInstances(self):\n",
    "        print(\"Number of instances created: %s\" % Spam.numInstances)"
   ]
  },
  {
   "cell_type": "code",
   "execution_count": 7,
   "metadata": {},
   "outputs": [
    {
     "name": "stdout",
     "output_type": "stream",
     "text": [
      "Number of instances created: 3\n"
     ]
    }
   ],
   "source": [
    "a = Spam()\n",
    "b = Spam()\n",
    "c = Spam()\n",
    "\n",
    "#Spam.printNumInstances()\n",
    "\n",
    "a.printNumInstances()\n",
    "#Spam().printNumInstances() # But fetching counter changes counter!"
   ]
  },
  {
   "cell_type": "markdown",
   "metadata": {},
   "source": [
    "### Alternate method - using global function"
   ]
  },
  {
   "cell_type": "code",
   "execution_count": null,
   "metadata": {},
   "outputs": [],
   "source": [
    "def printNumInstances():\n",
    "    print(\"Number of instances created: %s\" % Spam.numInstances)\n",
    "\n",
    "class Spam:\n",
    "    numInstances = 0\n",
    "    \n",
    "    def __init__(self):\n",
    "        Spam.numInstances = Spam.numInstances + 1"
   ]
  },
  {
   "cell_type": "markdown",
   "metadata": {},
   "source": [
    "## Instance method, Static Method, Class Method  "
   ]
  },
  {
   "cell_type": "code",
   "execution_count": 7,
   "metadata": {},
   "outputs": [],
   "source": [
    "class Methods:\n",
    "    def imeth(self, x): # Normal instance method: passed a self\n",
    "        print([self, x])\n",
    "    \n",
    "    #@staticmethod\n",
    "    def smeth(x): # Static: no instance passed\n",
    "        print([x])\n",
    "    \n",
    "    #@classmethod\n",
    "    def cmeth(cls, x): # Class: gets class, not instance\n",
    "        print([cls, x])\n",
    "        \n",
    "    #smeth = staticmethod(smeth) # Make smeth a static method (or @: ahead)\n",
    "    #cmeth = classmethod(cmeth) # Make cmeth a class method (or @: ahead)"
   ]
  },
  {
   "cell_type": "code",
   "execution_count": 9,
   "metadata": {},
   "outputs": [
    {
     "name": "stdout",
     "output_type": "stream",
     "text": [
      "[<__main__.Methods object at 0x7fded04632e8>, 'Rahul']\n"
     ]
    }
   ],
   "source": [
    "x = Methods()\n",
    "x.cmeth(\"Rahul\")"
   ]
  },
  {
   "cell_type": "markdown",
   "metadata": {},
   "source": [
    "### Counting Instance Using Static Method"
   ]
  },
  {
   "cell_type": "code",
   "execution_count": 1,
   "metadata": {},
   "outputs": [],
   "source": [
    "class Spam:\n",
    "    numInstances = 0 # Use static method for class data\n",
    "    \n",
    "    def __init__(self):\n",
    "        Spam.numInstances += 1\n",
    "    \n",
    "    def printNumInstances():\n",
    "        print(\"Number of instances: %s\" % Spam.numInstances)\n",
    "    \n",
    "    printNumInstances = staticmethod(printNumInstances)"
   ]
  },
  {
   "cell_type": "code",
   "execution_count": 2,
   "metadata": {},
   "outputs": [
    {
     "name": "stdout",
     "output_type": "stream",
     "text": [
      "Number of instances: 0\n"
     ]
    }
   ],
   "source": [
    "\n",
    "class Sub(Spam):\n",
    "    def printNumInstances(): # Override a static method\n",
    "        print(\"Extra stuff...\") # But call back to original\n",
    "    \n",
    "    Spam.printNumInstances()\n",
    "    \n",
    "    printNumInstances = staticmethod(printNumInstances)"
   ]
  },
  {
   "cell_type": "code",
   "execution_count": 3,
   "metadata": {},
   "outputs": [
    {
     "name": "stdout",
     "output_type": "stream",
     "text": [
      "Extra stuff...\n",
      "Extra stuff...\n",
      "Number of instances: 2\n"
     ]
    }
   ],
   "source": [
    "a = Sub()\n",
    "b = Sub()\n",
    "\n",
    "a.printNumInstances()\n",
    "Sub.printNumInstances()\n",
    "Spam.printNumInstances()"
   ]
  },
  {
   "cell_type": "code",
   "execution_count": 5,
   "metadata": {},
   "outputs": [],
   "source": [
    "class Other(Sub): pass"
   ]
  },
  {
   "cell_type": "code",
   "execution_count": 6,
   "metadata": {},
   "outputs": [
    {
     "name": "stdout",
     "output_type": "stream",
     "text": [
      "Extra stuff...\n"
     ]
    }
   ],
   "source": [
    "c = Other()\n",
    "c.printNumInstances()"
   ]
  },
  {
   "cell_type": "markdown",
   "metadata": {},
   "source": [
    "## Counting Instance using Class Method"
   ]
  },
  {
   "cell_type": "code",
   "execution_count": 9,
   "metadata": {},
   "outputs": [],
   "source": [
    "# Class Method\n",
    "class Spam:\n",
    "    numInstances = 0 # Use class method instead of static\n",
    "    \n",
    "    def __init__(self):\n",
    "        Spam.numInstances += 1\n",
    "    \n",
    "    def printNumInstances(cls):\n",
    "        print(\"Number of instances: %s\" % cls.numInstances)\n",
    "    \n",
    "    printNumInstances = classmethod(printNumInstances)"
   ]
  },
  {
   "cell_type": "code",
   "execution_count": 10,
   "metadata": {},
   "outputs": [
    {
     "name": "stdout",
     "output_type": "stream",
     "text": [
      "Number of instances: 2\n",
      "Number of instances: 2\n"
     ]
    }
   ],
   "source": [
    "a, b = Spam(), Spam()\n",
    "a.printNumInstances()\n",
    "Spam.printNumInstances()"
   ]
  },
  {
   "cell_type": "code",
   "execution_count": 11,
   "metadata": {},
   "outputs": [
    {
     "name": "stdout",
     "output_type": "stream",
     "text": [
      "Number of instances: 0 <class '__main__.Spam'>\n"
     ]
    }
   ],
   "source": [
    "class Spam:\n",
    "    numInstances = 0 # Trace class passed in\n",
    "    \n",
    "    def __init__(self):\n",
    "        Spam.numInstances += 1\n",
    "    \n",
    "    def printNumInstances(cls):\n",
    "        print(\"Number of instances: %s %s\" % (cls.numInstances, cls))\n",
    "    \n",
    "    printNumInstances = classmethod(printNumInstances)\n",
    "\n",
    "class Sub(Spam):\n",
    "    def printNumInstances(cls): # Override a class method\n",
    "        print(\"Extra stuff...\", cls) # But call back to original\n",
    "    \n",
    "    Spam.printNumInstances()\n",
    "    printNumInstances = classmethod(printNumInstances)\n",
    "\n",
    "class Other(Spam): pass # Inherit class method verbatim"
   ]
  },
  {
   "cell_type": "code",
   "execution_count": null,
   "metadata": {},
   "outputs": [],
   "source": [
    "x = Sub()\n",
    "y = Spam()\n",
    "x.printNumInstances()\n",
    "Sub.printNumInstances()\n",
    "y.printNumInstances()"
   ]
  }
 ],
 "metadata": {
  "kernelspec": {
   "display_name": "Python 3",
   "language": "python",
   "name": "python3"
  },
  "language_info": {
   "codemirror_mode": {
    "name": "ipython",
    "version": 3
   },
   "file_extension": ".py",
   "mimetype": "text/x-python",
   "name": "python",
   "nbconvert_exporter": "python",
   "pygments_lexer": "ipython3",
   "version": "3.7.2"
  }
 },
 "nbformat": 4,
 "nbformat_minor": 2
}
