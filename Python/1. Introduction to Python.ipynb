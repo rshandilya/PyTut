{
 "cells": [
  {
   "cell_type": "markdown",
   "metadata": {},
   "source": [
    "# Introduction to Python"
   ]
  },
  {
   "cell_type": "markdown",
   "metadata": {},
   "source": [
    "## Different way to run python code\n",
    "\n",
    "\\>>> `print(\"Hello World\")`\n",
    "\n",
    "$ `python hello.py`\n",
    "\n",
    "$ `python -i file.py`\n",
    "\n",
    "$ `python -c \"print(Hello World)\"`\n",
    "\n",
    "## Comment"
   ]
  },
  {
   "cell_type": "code",
   "execution_count": null,
   "metadata": {},
   "outputs": [],
   "source": [
    "# This is Comment. This statement will not execute"
   ]
  },
  {
   "cell_type": "markdown",
   "metadata": {},
   "source": [
    "## Input  and output from console"
   ]
  },
  {
   "cell_type": "code",
   "execution_count": null,
   "metadata": {},
   "outputs": [],
   "source": [
    "print(\"Hello World\")"
   ]
  },
  {
   "cell_type": "code",
   "execution_count": null,
   "metadata": {},
   "outputs": [],
   "source": [
    "name = input(\"Who are you?\")\n",
    "print(f\" Hello {name}\")         # String formatting\n",
    "# print(\"Hello {}\".format(name))   # Alternativelyb"
   ]
  },
  {
   "cell_type": "code",
   "execution_count": null,
   "metadata": {},
   "outputs": [],
   "source": [
    "age = eval(input(\"Enter your age: \"))\n",
    "print(age)"
   ]
  },
  {
   "cell_type": "markdown",
   "metadata": {},
   "source": [
    "## Identifier or Variable (Dynamic Type)\n",
    "Python variable are like tags, they point to object, but the are not object itself. They can be reused to point different object."
   ]
  },
  {
   "cell_type": "code",
   "execution_count": null,
   "metadata": {},
   "outputs": [],
   "source": [
    "a = 400.0\n",
    "print(id(a), type(a))\n",
    "a  = '400'\n",
    "print(id(a), type(a))"
   ]
  },
  {
   "cell_type": "markdown",
   "metadata": {},
   "source": [
    "## Numbers"
   ]
  },
  {
   "cell_type": "code",
   "execution_count": null,
   "metadata": {},
   "outputs": [],
   "source": [
    "a = 1.4e1     # float\n",
    "b = 4+6j    # complex\n",
    "b"
   ]
  },
  {
   "cell_type": "code",
   "execution_count": null,
   "metadata": {},
   "outputs": [],
   "source": [
    "a + abs(b)    # Absolute function"
   ]
  },
  {
   "cell_type": "code",
   "execution_count": null,
   "metadata": {},
   "outputs": [],
   "source": [
    "9 // 4  # integer division"
   ]
  },
  {
   "cell_type": "code",
   "execution_count": null,
   "metadata": {},
   "outputs": [],
   "source": [
    "9 / 4   #  Float division"
   ]
  },
  {
   "cell_type": "code",
   "execution_count": null,
   "metadata": {},
   "outputs": [],
   "source": [
    "2**10   # Power"
   ]
  },
  {
   "cell_type": "code",
   "execution_count": null,
   "metadata": {},
   "outputs": [],
   "source": [
    "7 % 3  # Modulus"
   ]
  },
  {
   "cell_type": "code",
   "execution_count": null,
   "metadata": {},
   "outputs": [],
   "source": [
    "a = 7\n",
    "a += 3\n",
    "a"
   ]
  },
  {
   "cell_type": "markdown",
   "metadata": {},
   "source": [
    "## Strings\n",
    "* Stings are **immutable** in python, they cannot be changed in place after they are created\n",
    "* Every string operation is defined to produce a new string as its result.\n"
   ]
  },
  {
   "cell_type": "code",
   "execution_count": 2,
   "metadata": {},
   "outputs": [
    {
     "name": "stdout",
     "output_type": "stream",
     "text": [
      "<class 'str'> 4\n"
     ]
    }
   ],
   "source": [
    "S = 'SPAM'\n",
    "print(type(S), len(S))"
   ]
  },
  {
   "cell_type": "code",
   "execution_count": 3,
   "metadata": {},
   "outputs": [
    {
     "name": "stdout",
     "output_type": "stream",
     "text": [
      "first element: S; Last Element: M\n"
     ]
    }
   ],
   "source": [
    "print('first element: {}; Last Element: {}'.format(S[0], S[-1]))"
   ]
  },
  {
   "cell_type": "code",
   "execution_count": 4,
   "metadata": {},
   "outputs": [
    {
     "name": "stdout",
     "output_type": "stream",
     "text": [
      "A M\n"
     ]
    }
   ],
   "source": [
    "print(S[2], S[len(S)-1])"
   ]
  },
  {
   "cell_type": "code",
   "execution_count": 5,
   "metadata": {},
   "outputs": [
    {
     "name": "stdout",
     "output_type": "stream",
     "text": [
      "PA PAM SPAM\n"
     ]
    }
   ],
   "source": [
    "print(S[1:3], S[1:], S[:])"
   ]
  },
  {
   "cell_type": "code",
   "execution_count": 6,
   "metadata": {},
   "outputs": [
    {
     "data": {
      "text/plain": [
       "False"
      ]
     },
     "execution_count": 6,
     "metadata": {},
     "output_type": "execute_result"
    }
   ],
   "source": [
    "'S' in S and 's' in S   # Membership"
   ]
  },
  {
   "cell_type": "code",
   "execution_count": 9,
   "metadata": {},
   "outputs": [
    {
     "data": {
      "text/plain": [
       "'SPAMabc'"
      ]
     },
     "execution_count": 9,
     "metadata": {},
     "output_type": "execute_result"
    }
   ],
   "source": [
    "X = S + 'abc'  # concatenate\n",
    "X"
   ]
  },
  {
   "cell_type": "code",
   "execution_count": 7,
   "metadata": {},
   "outputs": [
    {
     "data": {
      "text/plain": [
       "'SPAMSPAMSPAMSPAMSPAMSPAMSPAMSPAM'"
      ]
     },
     "execution_count": 7,
     "metadata": {},
     "output_type": "execute_result"
    }
   ],
   "source": [
    "S = S * 8   \n",
    "S"
   ]
  },
  {
   "cell_type": "code",
   "execution_count": 8,
   "metadata": {},
   "outputs": [
    {
     "data": {
      "text/plain": [
       "'SPAM'"
      ]
     },
     "execution_count": 8,
     "metadata": {},
     "output_type": "execute_result"
    }
   ],
   "source": [
    "S = \"SPAM\"\n",
    "S + 'xyz'\n",
    "S  # unchanges - immutable"
   ]
  },
  {
   "cell_type": "code",
   "execution_count": null,
   "metadata": {},
   "outputs": [],
   "source": [
    "S = 'spam'\n",
    "S.capitalize?"
   ]
  },
  {
   "cell_type": "code",
   "execution_count": null,
   "metadata": {},
   "outputs": [],
   "source": [
    "S.find('pa') # Find the offset of a substring"
   ]
  },
  {
   "cell_type": "code",
   "execution_count": null,
   "metadata": {},
   "outputs": [],
   "source": [
    "S.replace('pa', 'XYZ') # Replace"
   ]
  },
  {
   "cell_type": "code",
   "execution_count": null,
   "metadata": {},
   "outputs": [],
   "source": [
    "line = 'aaa,bbb,ccccc,dd'\n",
    "line.split(',')"
   ]
  },
  {
   "cell_type": "markdown",
   "metadata": {},
   "source": [
    "### String Formatting"
   ]
  },
  {
   "cell_type": "code",
   "execution_count": null,
   "metadata": {},
   "outputs": [],
   "source": [
    "'%s, eggs, and %s' %('spam', 'SPAM!') # C like formatting"
   ]
  },
  {
   "cell_type": "code",
   "execution_count": null,
   "metadata": {},
   "outputs": [],
   "source": [
    "'{0}, eggs, and {1}'.format('spam', 'SPAM!')  # using format method"
   ]
  },
  {
   "cell_type": "code",
   "execution_count": 12,
   "metadata": {},
   "outputs": [
    {
     "data": {
      "text/plain": [
       "'My name is Rahul shandilya'"
      ]
     },
     "execution_count": 12,
     "metadata": {},
     "output_type": "execute_result"
    }
   ],
   "source": [
    "name = \"Rahul\"          \n",
    "f'My name is {name+\" shandilya\"}'                         # using f\"\" string"
   ]
  },
  {
   "cell_type": "markdown",
   "metadata": {},
   "source": [
    "## List"
   ]
  },
  {
   "cell_type": "code",
   "execution_count": null,
   "metadata": {},
   "outputs": [],
   "source": [
    "L = [123, 'spam', 1.23, ['MITRC', 'Alwar']]\n",
    "print(len(L))\n",
    "print(L[0], L[:-1])"
   ]
  },
  {
   "cell_type": "code",
   "execution_count": null,
   "metadata": {},
   "outputs": [],
   "source": [
    "R = range(10)  # range function generate sequence of numbers on-fly (generator)\n",
    "R = list(R)\n",
    "R[-1: :-2]     # indexing has optional end and step value"
   ]
  },
  {
   "cell_type": "code",
   "execution_count": null,
   "metadata": {},
   "outputs": [],
   "source": [
    "print(L + R)\n",
    "print(L * 2)"
   ]
  },
  {
   "cell_type": "code",
   "execution_count": null,
   "metadata": {},
   "outputs": [],
   "source": [
    "L.append('NI')\n",
    "L"
   ]
  },
  {
   "cell_type": "code",
   "execution_count": null,
   "metadata": {},
   "outputs": [],
   "source": [
    "print(L.pop(1))\n",
    "print(L)"
   ]
  },
  {
   "cell_type": "code",
   "execution_count": null,
   "metadata": {},
   "outputs": [],
   "source": [
    "M = [[1, 2, 3],            # Nested List\n",
    "     [4, 5, 6], \n",
    "     [7, 8, 9]]\n",
    "\n",
    "M[1][1]"
   ]
  },
  {
   "cell_type": "code",
   "execution_count": null,
   "metadata": {},
   "outputs": [],
   "source": [
    "# Type specific methods\n",
    "M = ['bb', 'aa', 'cc']\n",
    "M.sort()\n",
    "M.reverse()\n",
    "print(M)"
   ]
  },
  {
   "cell_type": "code",
   "execution_count": null,
   "metadata": {},
   "outputs": [],
   "source": [
    "L = [123, 'spam', 1.23]\n",
    "L.pop(1)\n",
    "L"
   ]
  },
  {
   "cell_type": "markdown",
   "metadata": {},
   "source": [
    "### Dictionaries"
   ]
  },
  {
   "cell_type": "code",
   "execution_count": null,
   "metadata": {},
   "outputs": [],
   "source": [
    "D = {'food': 'Spam', 'quantity': 4, 'color': 'pink'}\n",
    "print(D)\n",
    "print(D['color'])          # value can be fetched using indexing keys)"
   ]
  },
  {
   "cell_type": "code",
   "execution_count": null,
   "metadata": {},
   "outputs": [],
   "source": [
    "print(D.keys())\n",
    "print(D.values())"
   ]
  },
  {
   "cell_type": "code",
   "execution_count": null,
   "metadata": {},
   "outputs": [],
   "source": [
    "D['quantity'] += 1   # changing value using key\n",
    "D['quantity']"
   ]
  },
  {
   "cell_type": "code",
   "execution_count": null,
   "metadata": {},
   "outputs": [],
   "source": [
    "D = {}                # Initializing empty dictionaries\n",
    "D['name'] = 'Bob'     # Adding Elements\n",
    "D['job'] = 'dev'\n",
    "D['age'] = 40\n",
    "D"
   ]
  },
  {
   "cell_type": "code",
   "execution_count": null,
   "metadata": {},
   "outputs": [],
   "source": [
    "bob1 = dict(name='Bob', job='dev', age=40)\n",
    "bob1"
   ]
  },
  {
   "cell_type": "code",
   "execution_count": null,
   "metadata": {},
   "outputs": [],
   "source": [
    "rec = {'name': {'first': 'Bob', 'last': 'Smith'},\n",
    "'jobs': ['dev', 'mgr'],\n",
    "'age': 40.5}\n",
    "\n",
    "print(rec['name'])\n",
    "print(rec['name']['last'])\n",
    "print(rec['jobs'][-1])"
   ]
  },
  {
   "cell_type": "code",
   "execution_count": null,
   "metadata": {},
   "outputs": [],
   "source": [
    "Ks = list(D.keys())\n",
    "Ks.sort()\n",
    "\n",
    "for key in Ks:\n",
    "    print(key, '=>', D[key])"
   ]
  },
  {
   "cell_type": "markdown",
   "metadata": {},
   "source": [
    "## Tuple"
   ]
  },
  {
   "cell_type": "code",
   "execution_count": null,
   "metadata": {},
   "outputs": [],
   "source": [
    "tup1 = (1, 2, 3, 4)       \n",
    "tup2 = 1, 5, 7            # without parenthesis\n",
    "\n",
    "print(type(tup1), type(tup2))\n",
    "print(len(tup1), len(tup2))"
   ]
  },
  {
   "cell_type": "code",
   "execution_count": null,
   "metadata": {},
   "outputs": [],
   "source": [
    "tup1[1:3]"
   ]
  },
  {
   "cell_type": "code",
   "execution_count": null,
   "metadata": {},
   "outputs": [],
   "source": [
    "tup1[2] = 'R'            # Tupple is immutable"
   ]
  },
  {
   "cell_type": "code",
   "execution_count": null,
   "metadata": {},
   "outputs": [],
   "source": [
    "T + (5, 6)\n",
    "T[0]\n",
    "T.index(4)\n",
    "T.count(4)\n",
    "T[0] = 2\n",
    "T = (2,) + T[1:]\n",
    "T\n",
    "T = 'spam', 3.0, [11, 22, 33]\n",
    "T[1]\n",
    "T[2][1]\n",
    "T.append(4)"
   ]
  },
  {
   "cell_type": "markdown",
   "metadata": {},
   "source": [
    "## Control Flow Statement"
   ]
  },
  {
   "cell_type": "code",
   "execution_count": null,
   "metadata": {},
   "outputs": [],
   "source": [
    "if 1:                  # if tests\n",
    "    print('true')      # associated block"
   ]
  },
  {
   "cell_type": "code",
   "execution_count": null,
   "metadata": {},
   "outputs": [],
   "source": [
    "if not 0:\n",
    "    print('true')\n",
    "else:                  # optional else for branching\n",
    "    print('false')"
   ]
  },
  {
   "cell_type": "code",
   "execution_count": null,
   "metadata": {},
   "outputs": [],
   "source": [
    "x = 0\n",
    "if x < 0:\n",
    "    print('x is negative')\n",
    "elif x > 0:                         # optional elif for multiway branching  \n",
    "    print('x is positive')\n",
    "else:\n",
    "    print('x is zero')"
   ]
  },
  {
   "cell_type": "code",
   "execution_count": null,
   "metadata": {},
   "outputs": [],
   "source": [
    "[i**2 for i in range(101) if i%2==0]"
   ]
  },
  {
   "cell_type": "markdown",
   "metadata": {},
   "source": [
    "## While Loop\n",
    "### General Loop Format\n",
    "\n",
    "```python\n",
    "while test:\n",
    "    statements\n",
    "    if test: break     # Exit loop now, skip else if present\n",
    "    if test: continue  # Go to top of loop now, to test1\n",
    "else:\n",
    "    statements         # Run if we didn't hit a 'break\n",
    "```\n",
    "* The **continue** statement causes an immediate jump to the top of a loop\n",
    "* The **break** statement causes an immediate exit from a loop"
   ]
  },
  {
   "cell_type": "code",
   "execution_count": null,
   "metadata": {},
   "outputs": [],
   "source": [
    "x = 'spam'\n",
    "while x:                    # While x is not empty\n",
    "    print(x, end='  ') \n",
    "    x = x[1:]               # Strip first character off x"
   ]
  },
  {
   "cell_type": "code",
   "execution_count": null,
   "metadata": {},
   "outputs": [],
   "source": [
    "x = 10\n",
    "while x:\n",
    "    x = x-1                   # Or, x -= 1\n",
    "    if x % 2 != 0: continue    # Odd? -- skip p\n",
    "    print(x, end=' ')"
   ]
  },
  {
   "cell_type": "code",
   "execution_count": null,
   "metadata": {},
   "outputs": [],
   "source": [
    "while True:\n",
    "    name = input('Enter name:') # Use raw_input() in 2.X\n",
    "    if name == 'stop': break\n",
    "    age = input('Enter age: ') \n",
    "    print('Hello', name, '=>', int(age) ** 2)"
   ]
  },
  {
   "cell_type": "markdown",
   "metadata": {},
   "source": [
    "Write a program to check whether the given integer is prime number or not"
   ]
  },
  {
   "cell_type": "markdown",
   "metadata": {},
   "source": [
    "## For Loop\n",
    "### General format\n",
    "```python\n",
    "for target in object:          # Assign object items to target\n",
    "    statements                 # Repeated loop body: use target\n",
    "    if test: break             # Exit loop now, skip else\n",
    "    if test: continue          # Go to top of loop now\n",
    "else:                          # Optional else part\n",
    "    statements                 # If we didn't hit a 'break\n",
    "```"
   ]
  },
  {
   "cell_type": "code",
   "execution_count": null,
   "metadata": {},
   "outputs": [],
   "source": [
    "for x in [\"spam\", \"eggs\", \"ham\"]:\n",
    "    print(x, end=' ')"
   ]
  },
  {
   "cell_type": "code",
   "execution_count": null,
   "metadata": {},
   "outputs": [],
   "source": [
    "L = []\n",
    "for i in range(51):\n",
    "    if i%5==0:\n",
    "        L.append(i)\n",
    "print(L)\n",
    "    "
   ]
  },
  {
   "cell_type": "code",
   "execution_count": null,
   "metadata": {},
   "outputs": [],
   "source": [
    "prod = 1\n",
    "for item in [1, 2, 3, 4]: prod *= item"
   ]
  },
  {
   "cell_type": "code",
   "execution_count": null,
   "metadata": {},
   "outputs": [],
   "source": [
    "T = [(1, 2), (3, 4), (5, 6)]\n",
    "for (a, b) in T: # Tuple assignment at work\n",
    "    print(a, b)"
   ]
  },
  {
   "cell_type": "code",
   "execution_count": null,
   "metadata": {},
   "outputs": [],
   "source": [
    "D = {'a': 1, 'b': 2, 'c': 3}\n",
    "for key in D:\n",
    "    print(key, '=>', D[key])"
   ]
  },
  {
   "cell_type": "markdown",
   "metadata": {},
   "source": [
    "## Function"
   ]
  },
  {
   "cell_type": "code",
   "execution_count": null,
   "metadata": {},
   "outputs": [],
   "source": [
    "def add_numbers(x, y):     # Defining Function\n",
    "    return x + y\n",
    "\n",
    "add_numbers(3, 5)          # Calling Function"
   ]
  },
  {
   "cell_type": "code",
   "execution_count": null,
   "metadata": {},
   "outputs": [],
   "source": [
    "add = lambda x, y: x + y    # Anonymous function (lambda function)\n",
    "add(3, 5)"
   ]
  },
  {
   "cell_type": "code",
   "execution_count": null,
   "metadata": {},
   "outputs": [],
   "source": [
    "def add_n(x, n=42):        # assingining default value  (keyword argument)\n",
    "    return x + n\n",
    "\n",
    "add_n(40)\n",
    "# add_n(40, n=10)b"
   ]
  },
  {
   "cell_type": "code",
   "execution_count": null,
   "metadata": {},
   "outputs": [],
   "source": [
    "def add_many(*args):       # variable positional argument\n",
    "    result = 0\n",
    "    for arg in args:\n",
    "        result += arg\n",
    "    return result\n",
    "\n",
    "add_many(3, 5, 6, 5, 7)"
   ]
  },
  {
   "cell_type": "code",
   "execution_count": null,
   "metadata": {},
   "outputs": [],
   "source": [
    "def add_kwargs(**kwargs):   # variable key word argument\n",
    "    result = 0\n",
    "    for key in kwargs:\n",
    "        result += kwargs[key]\n",
    "    return result\n",
    "\n",
    "add_kwargs(x=1, y=2, z=3)\n",
    "# add_kwargs()\n",
    "# add_kwargs(4)"
   ]
  },
  {
   "cell_type": "markdown",
   "metadata": {},
   "source": [
    "# Object Oriented Programming\n",
    "### Python first class"
   ]
  },
  {
   "cell_type": "code",
   "execution_count": null,
   "metadata": {},
   "outputs": [],
   "source": [
    "class MyFirstClass:\n",
    "    pass\n",
    "\n",
    "a = MyFirstClass()\n",
    "print(a)\n",
    "#b = MyFirstClass()\n",
    "#print(b)"
   ]
  },
  {
   "cell_type": "markdown",
   "metadata": {},
   "source": [
    "### Adding attributes\n",
    "#### Dot Notation:\n",
    "> **object.attribute = value**"
   ]
  },
  {
   "cell_type": "code",
   "execution_count": null,
   "metadata": {},
   "outputs": [],
   "source": [
    "class Point:\n",
    "    pass\n",
    "\n",
    "p1 = Point()\n",
    "p2 = Point()\n",
    "\n",
    "p1.x = 5\n",
    "p1.y = 4\n",
    "\n",
    "p2.x = 3\n",
    "p2.y = 6\n",
    "\n",
    "print(p1.x, p1.y)\n",
    "print(p2.x, p2.y)"
   ]
  },
  {
   "cell_type": "code",
   "execution_count": null,
   "metadata": {},
   "outputs": [],
   "source": [
    "print(p1)"
   ]
  },
  {
   "cell_type": "markdown",
   "metadata": {},
   "source": [
    "### Adding Behavior"
   ]
  },
  {
   "cell_type": "code",
   "execution_count": null,
   "metadata": {},
   "outputs": [],
   "source": [
    "class Point:\n",
    "    def reset(self):\n",
    "        self.x = 0\n",
    "        self.y = 0\n",
    "\n",
    "p = Point()\n",
    "# p.reset()\n",
    "Point.reset(p) # Alternatively\n",
    "print(p.x, p.y)"
   ]
  },
  {
   "cell_type": "code",
   "execution_count": null,
   "metadata": {},
   "outputs": [],
   "source": [
    "class Point:\n",
    "       \n",
    "    def move(self, x, y):\n",
    "        self.x = x\n",
    "        self.y = y\n",
    "\n",
    "    def reset(self):\n",
    "        self.move(0, 0)\n",
    "\n",
    "    def calculate_distance(self, other_point):\n",
    "        return ((self.x - other_point.x)**2 + (self.y - other_point.y)**2)**(1/2)\n",
    "    "
   ]
  },
  {
   "cell_type": "code",
   "execution_count": null,
   "metadata": {},
   "outputs": [],
   "source": [
    "p = Point()\n",
    "p.x = 6\n",
    "p.y = 7\n",
    "print(p.x, p.y)\n",
    "\n",
    "o = Point()\n",
    "o.x = 4\n",
    "o.y = 6\n",
    "\n",
    "\n",
    "print(o.x, o.y)\n",
    "\n",
    "p.calculate_distance(o)"
   ]
  },
  {
   "cell_type": "markdown",
   "metadata": {},
   "source": [
    "### Initializing the Object"
   ]
  },
  {
   "cell_type": "code",
   "execution_count": null,
   "metadata": {},
   "outputs": [],
   "source": [
    "class Point:\n",
    "    def __init__(self, x, y):\n",
    "        self.x = x\n",
    "        self.y = y\n",
    "\n",
    "    def move(self, x, y):\n",
    "        self.x = x\n",
    "        self.y = y\n",
    "\n",
    "    def reset(self):\n",
    "        self.move(0, 0)"
   ]
  },
  {
   "cell_type": "markdown",
   "metadata": {},
   "source": [
    "## Exception"
   ]
  },
  {
   "cell_type": "code",
   "execution_count": null,
   "metadata": {},
   "outputs": [],
   "source": [
    "# Error handling, Event notification, Special-case handling, Termination actions, Unusual control flows\n",
    "\n",
    "## CATCHING EXCEPTION\n",
    "\n",
    "def fetcher(obj, index):\n",
    "    return obj[index]\n",
    "\n",
    "x = 'spam'\n",
    "#fetcher(x, 3)\n",
    "\n",
    "#fetcher(x, 4)\n",
    "try:\n",
    "    fetcher(x, 4)\n",
    "except IndexError: # Catch and recover\n",
    "    print('got exception')\n",
    "    "
   ]
  },
  {
   "cell_type": "markdown",
   "metadata": {},
   "source": [
    "## Raising Exception"
   ]
  },
  {
   "cell_type": "code",
   "execution_count": null,
   "metadata": {},
   "outputs": [],
   "source": [
    "raise IndexError\n",
    "a = 2\n",
    "assert a!=2, 'Nobody expects the Spanish Inquisition!'  # used for debugging"
   ]
  },
  {
   "cell_type": "markdown",
   "metadata": {},
   "source": [
    "### User Defined Exception"
   ]
  },
  {
   "cell_type": "code",
   "execution_count": null,
   "metadata": {},
   "outputs": [],
   "source": [
    "class AlreadyGotOne(Exception): pass\n",
    "\n",
    "def grail():\n",
    "    raise AlreadyGotOne()\n",
    "\n",
    "try:\n",
    "    grail()\n",
    "except AlreadyGotOne: # Catch class name\n",
    "    print('got exception')"
   ]
  },
  {
   "cell_type": "code",
   "execution_count": null,
   "metadata": {},
   "outputs": [],
   "source": [
    "class Career(Exception):\n",
    "    def __str__(self): return 'So I became a waiter...'\n",
    "\n",
    "raise Career()"
   ]
  },
  {
   "cell_type": "markdown",
   "metadata": {},
   "source": [
    "## Reading and Writing Files"
   ]
  },
  {
   "cell_type": "code",
   "execution_count": null,
   "metadata": {},
   "outputs": [],
   "source": [
    "xyz = open(\"file.txt\", \"w\")\n",
    "a = \"TWINKLE TWINKLE LITTLE STAR\"\n",
    "b = \"HOW I WONDER WHAT YOU ARE\"\n",
    "c = \"UP ABOVE THE WORLD SO HIGH\"\n",
    "d = \"LIKE A DIAMOND IN THE SKY\"\n",
    "\n",
    "xyz.write(f\"{a}\\n{b}\\n{c}\\n{d}\")\n",
    "xyz.close()\n",
    "\n",
    "abc = open(\"file2\", \"w\")\n",
    "lines = [a, b, c, d]\n",
    "abc.writelines(lines)\n",
    "abc.close()"
   ]
  },
  {
   "cell_type": "code",
   "execution_count": null,
   "metadata": {},
   "outputs": [],
   "source": [
    "xyz = open(\"file.txt\", \"r\")\n",
    "abc = open(\"file2\", \"r\")\n",
    "all1 = xyz.read()\n",
    "all2 = abc.read()\n",
    "print(all1)\n",
    "print(all2)\n",
    "xyz.close()\n",
    "abc.close()"
   ]
  },
  {
   "cell_type": "code",
   "execution_count": null,
   "metadata": {},
   "outputs": [],
   "source": [
    "xyz = open(\"file.txt\", \"r\")\n",
    "a = xyz.readline()\n",
    "print(a)\n",
    "print(xyz.tell())\n",
    "b = xyz.readlines()\n",
    "print(b[1])\n",
    "xyz.close()"
   ]
  },
  {
   "cell_type": "markdown",
   "metadata": {},
   "source": [
    "## Modules"
   ]
  },
  {
   "cell_type": "code",
   "execution_count": null,
   "metadata": {},
   "outputs": [],
   "source": [
    "import math\n",
    "import math as m\n",
    "from math import sin"
   ]
  },
  {
   "cell_type": "code",
   "execution_count": null,
   "metadata": {},
   "outputs": [],
   "source": [
    "math.log2?"
   ]
  },
  {
   "cell_type": "code",
   "execution_count": null,
   "metadata": {},
   "outputs": [],
   "source": [
    "dir(math)"
   ]
  },
  {
   "cell_type": "code",
   "execution_count": null,
   "metadata": {},
   "outputs": [],
   "source": [
    "help(math.sin)"
   ]
  },
  {
   "cell_type": "code",
   "execution_count": null,
   "metadata": {},
   "outputs": [],
   "source": [
    "a = \"Rahul\"\n",
    "b = \"Shandilya\"\n",
    "print(a, b, sep=\"  :  \", end=\"\\n\")\n",
    "print(a, b, sep=\"  :  \")"
   ]
  }
 ],
 "metadata": {
  "kernelspec": {
   "display_name": "Python 3",
   "language": "python",
   "name": "python3"
  },
  "language_info": {
   "codemirror_mode": {
    "name": "ipython",
    "version": 3
   },
   "file_extension": ".py",
   "mimetype": "text/x-python",
   "name": "python",
   "nbconvert_exporter": "python",
   "pygments_lexer": "ipython3",
   "version": "3.7.2"
  }
 },
 "nbformat": 4,
 "nbformat_minor": 2
}
