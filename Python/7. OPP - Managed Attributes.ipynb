{
 "cells": [
  {
   "cell_type": "markdown",
   "metadata": {},
   "source": [
    "## Objects Internal"
   ]
  },
  {
   "cell_type": "code",
   "execution_count": 1,
   "metadata": {},
   "outputs": [
    {
     "name": "stdout",
     "output_type": "stream",
     "text": [
      "Vector(5, 3)\n"
     ]
    },
    {
     "data": {
      "text/plain": [
       "{'x': 5, 'y': 3}"
      ]
     },
     "execution_count": 1,
     "metadata": {},
     "output_type": "execute_result"
    }
   ],
   "source": [
    "class Vector:\n",
    "    def __init__(self, x, y):\n",
    "        self.x = x\n",
    "        self.y = y\n",
    "    def __repr__(self):\n",
    "        return \"{}({}, {})\".format(\n",
    "            type(self).__name__, self.x, self.y)\n",
    "\n",
    "v = Vector(5, 3)\n",
    "print(v)\n",
    "v.__dict__\n",
    "# v.__dict__['x']      # print value of attribute x\n",
    "# v.__dict__['x'] = 7  # modify value\n",
    "# del v.__dict__['x']  # delete value"
   ]
  },
  {
   "cell_type": "code",
   "execution_count": 2,
   "metadata": {},
   "outputs": [
    {
     "data": {
      "text/plain": [
       "dict"
      ]
     },
     "execution_count": 2,
     "metadata": {},
     "output_type": "execute_result"
    }
   ],
   "source": [
    "type(v.__dict__)"
   ]
  },
  {
   "cell_type": "markdown",
   "metadata": {},
   "source": [
    "## Built-In Function"
   ]
  },
  {
   "cell_type": "code",
   "execution_count": 9,
   "metadata": {},
   "outputs": [
    {
     "data": {
      "text/plain": [
       "3"
      ]
     },
     "execution_count": 9,
     "metadata": {},
     "output_type": "execute_result"
    }
   ],
   "source": [
    "getattr(v, 'y')\n",
    "#hasattr(v, 'x')\n",
    "# delattr(v, 'z')\n",
    "#setattr(v, 'x', 9)"
   ]
  },
  {
   "cell_type": "markdown",
   "metadata": {},
   "source": [
    "## Property\n",
    "Python does not explicitly have the concept of encapsulation; instead it relies on\n",
    "two things; a standard convention used to indicate that an attribute should be\n",
    "considered private and a concept called a property which allows setters and getters\n",
    "to be defined for an attribute."
   ]
  },
  {
   "cell_type": "code",
   "execution_count": 1,
   "metadata": {},
   "outputs": [
    {
     "name": "stdout",
     "output_type": "stream",
     "text": [
      "Person[42] is -1\n"
     ]
    }
   ],
   "source": [
    "class Person:    \n",
    "    def __init__(self, name, age):\n",
    "        self.name = name\n",
    "        self.age = age\n",
    "    \n",
    "    def __str__(self):\n",
    "        return 'Person[' + str(self.name) + '] is ' + str(self.age)\n",
    "    \n",
    "person = Person('John', 54)\n",
    "person.name = 42\n",
    "person.age = -1    \n",
    "print(person)"
   ]
  },
  {
   "cell_type": "markdown",
   "metadata": {},
   "source": []
  },
  {
   "cell_type": "code",
   "execution_count": 4,
   "metadata": {},
   "outputs": [
    {
     "name": "stdout",
     "output_type": "stream",
     "text": [
      "Person[John] is 54\n",
      "54\n",
      "John\n",
      "Person[John] is 21\n"
     ]
    }
   ],
   "source": [
    "class Person:\n",
    "    def __init__(self, name, age):\n",
    "        self._name = name\n",
    "        self._age = age\n",
    "    def get_age(self):\n",
    "        return self._age\n",
    "    def set_age(self, new_age):\n",
    "        if isinstance(new_age,int) & new_age > 0 & new_age < 120:\n",
    "            self._age = new_age\n",
    "            \n",
    "    age = property(get_age, set_age, doc=\"An age property\")\n",
    "    \n",
    "    def get_name(self):\n",
    "        return self._name\n",
    "    \n",
    "    name = property(get_name, doc=\"A name property\")\n",
    "    \n",
    "    #def del_name(self):\n",
    "    #    del self._name\n",
    "    #name = property(get_name, fdel=del_name, doc=\"A name property\")\n",
    "    \n",
    "    def __str__(self):\n",
    "        return 'Person[' + str(self._name) +'] is ' + str(self._age)\n",
    "    \n",
    "person = Person('John', 54)\n",
    "print(person)\n",
    "print(person.age)\n",
    "print(person.name)\n",
    "person.age = 21\n",
    "print(person)    "
   ]
  },
  {
   "cell_type": "markdown",
   "metadata": {},
   "source": [
    "The syntax for defining a property in this way is:\n",
    "    \n",
    "    <property_name> = property(fget=None, fset=None, fdel=None, doc=None)\n",
    "    \n",
    "### Using Property Decorator    "
   ]
  },
  {
   "cell_type": "code",
   "execution_count": null,
   "metadata": {},
   "outputs": [],
   "source": []
  },
  {
   "cell_type": "code",
   "execution_count": 7,
   "metadata": {},
   "outputs": [],
   "source": [
    "class Person:\n",
    "    def __init__(self, name, age):\n",
    "        self._name = name\n",
    "        self._age = age\n",
    "    \n",
    "    @property\n",
    "    def age(self):\n",
    "        \"\"\" The docstring for the age property \"\"\"\n",
    "        print('In age method')\n",
    "        return self._age\n",
    "    \n",
    "    @age.setter\n",
    "    def age(self, value):\n",
    "        print('In set_age method')\n",
    "        if isinstance(value,int) & value > 0 & value < 120:\n",
    "            self._age = value\n",
    "    \n",
    "    @property\n",
    "    def name(self):\n",
    "        print('In name')\n",
    "        return self._name\n",
    "    \n",
    "    @name.deleter\n",
    "    def name(self):\n",
    "        del self._name\n",
    "    \n",
    "    def __str__(self):\n",
    "        return 'Person[' + str(self._name) +'] is ' + str(self._age)"
   ]
  },
  {
   "cell_type": "markdown",
   "metadata": {},
   "source": [
    "# Descriptor"
   ]
  },
  {
   "cell_type": "code",
   "execution_count": null,
   "metadata": {},
   "outputs": [],
   "source": [
    "class Order:\n",
    "    def __init__(self, name, price, quantity):\n",
    "        self.name = name\n",
    "        self.price = price\n",
    "        self.quantity = quantity\n",
    "\n",
    "    def total(self):\n",
    "        return self.price * self.quantity\n",
    "\n",
    "apple_order = Order('apple', 1, 10)\n",
    "apple_order.total()\n",
    "\n",
    "apple_order.quantity = -10\n",
    "apple_order.total"
   ]
  },
  {
   "cell_type": "code",
   "execution_count": null,
   "metadata": {},
   "outputs": [],
   "source": [
    "class Order:\n",
    "    def __init__(self, name, price, quantity):\n",
    "        self._name = name\n",
    "        self.price = price\n",
    "        self._quantity = quantity  # (1)\n",
    "\n",
    "    @property\n",
    "    def quantity(self):\n",
    "        return self._quantity\n",
    "\n",
    "    @quantity.setter\n",
    "    def quantity(self, value):\n",
    "        if value < 0:\n",
    "            raise ValueError('Cannot be negative.')\n",
    "        self._quantity = value  # (2)\n",
    "        \n",
    "\n",
    "apple_order.quantity = -10"
   ]
  },
  {
   "cell_type": "code",
   "execution_count": 9,
   "metadata": {},
   "outputs": [
    {
     "data": {
      "text/plain": [
       "10"
      ]
     },
     "execution_count": 9,
     "metadata": {},
     "output_type": "execute_result"
    }
   ],
   "source": [
    "class NonNegative:\n",
    "    def __init__(self, name):\n",
    "        self.name = name  \n",
    "    def __get__(self, instance, owner):      # a.x => type(a).__dict__['x'].__get__(a, type(a))\n",
    "        return instance.__dict__[self.name]  # A.x => A.__dict__['x'].__get__(None, A)\n",
    "    def __set__(self, instance, value):      # a.x = someValue  => type(a).__dict__['x'].__set__(a, someValue)\n",
    "        if value < 0:\n",
    "            raise ValueError('Cannot be negative.')\n",
    "        instance.__dict__[self.name] = value  \n",
    "        \n",
    "class Order:\n",
    "    price = NonNegative('price')\n",
    "    quantity = NonNegative('quantity')\n",
    "\n",
    "    def __init__(self, name, price, quantity):\n",
    "        self._name = name\n",
    "        self.price = price\n",
    "        self.quantity = quantity\n",
    "\n",
    "    def total(self):\n",
    "        return self.price * self.quantity\n",
    "\n",
    "apple_order = Order('apple', 1, 10)\n",
    "apple_order.total()\n",
    "# 10\n",
    "#apple_order.price = -10\n",
    "# ValueError: Cannot be negative\n",
    "#apple_order.quantity = -10\n",
    "# ValueError: Cannot be negative        "
   ]
  },
  {
   "cell_type": "code",
   "execution_count": null,
   "metadata": {},
   "outputs": [],
   "source": [
    "class NonNegative:\n",
    "    def __get__(self, instance, owner):\n",
    "        return instance.__dict__[self.name]\n",
    "    def __set__(self, instance, value):\n",
    "        if value < 0:\n",
    "            raise ValueError('Cannot be negative.')\n",
    "        instance.__dict__[self.name] = value\n",
    "    def __set_name__(self, owner, name):\n",
    "        self.name = name\n",
    "\n",
    "class Order:\n",
    "    price = NonNegative()\n",
    "    quantity = NonNegative()\n",
    "\n",
    "    def __init__(self, name, price, quantity):\n",
    "        self._name = name\n",
    "        self.price = price\n",
    "        self.quantity = quantity\n",
    "\n",
    "    def total(self):\n",
    "        return self.price * self.quantity\n",
    "\n",
    "apple_order = Order('apple', 1, 10)\n",
    "apple_order.total()\n",
    "# 10\n",
    "apple_order.price = -10\n",
    "# ValueError: Cannot be negative\n",
    "apple_order.quantity = -10\n",
    "# ValueError: Cannot be negative"
   ]
  }
 ],
 "metadata": {
  "kernelspec": {
   "display_name": "Python 3",
   "language": "python",
   "name": "python3"
  },
  "language_info": {
   "codemirror_mode": {
    "name": "ipython",
    "version": 3
   },
   "file_extension": ".py",
   "mimetype": "text/x-python",
   "name": "python",
   "nbconvert_exporter": "python",
   "pygments_lexer": "ipython3",
   "version": "3.7.2"
  }
 },
 "nbformat": 4,
 "nbformat_minor": 2
}
