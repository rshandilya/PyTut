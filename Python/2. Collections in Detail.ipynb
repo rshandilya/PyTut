{
 "cells": [
  {
   "cell_type": "markdown",
   "metadata": {},
   "source": [
    "## Collection Protocol"
   ]
  },
  {
   "cell_type": "markdown",
   "metadata": {},
   "source": [
    "### List in Detail"
   ]
  },
  {
   "cell_type": "code",
   "execution_count": null,
   "metadata": {},
   "outputs": [],
   "source": [
    "# Slicing List\n",
    "x = ['a', 'b', 'c', 'd', 'e']\n",
    "x[4:1:-1]"
   ]
  },
  {
   "cell_type": "code",
   "execution_count": null,
   "metadata": {},
   "outputs": [],
   "source": [
    "r = x\n",
    "r is x"
   ]
  },
  {
   "cell_type": "code",
   "execution_count": null,
   "metadata": {},
   "outputs": [],
   "source": [
    "s = x[:]   # copy --- copying list also x.copy()\n",
    "s is x"
   ]
  },
  {
   "cell_type": "code",
   "execution_count": null,
   "metadata": {},
   "outputs": [],
   "source": [
    "s == x"
   ]
  },
  {
   "cell_type": "code",
   "execution_count": null,
   "metadata": {},
   "outputs": [],
   "source": [
    "s[1] is x[1]      # Shallow copy"
   ]
  },
  {
   "cell_type": "code",
   "execution_count": null,
   "metadata": {},
   "outputs": [],
   "source": [
    "s = [ [-1, +1] ] * 5      # Shallow copy\n",
    "s[2].append(7)\n",
    "s"
   ]
  },
  {
   "cell_type": "code",
   "execution_count": null,
   "metadata": {},
   "outputs": [],
   "source": [
    "a = [1,3]\n",
    "a * 3"
   ]
  },
  {
   "cell_type": "markdown",
   "metadata": {},
   "source": [
    "## In-built Function"
   ]
  },
  {
   "cell_type": "code",
   "execution_count": null,
   "metadata": {},
   "outputs": [],
   "source": [
    "# map(fun, iter)  iter: It is a iterable which is to be mapped. \n",
    "def sq(n): \n",
    "    return n*n \n",
    "\n",
    "# We double all numbers using map() \n",
    "numbers = (1, 2, 3, 4) \n",
    "result = map(sq, numbers) \n",
    "list(result)"
   ]
  },
  {
   "cell_type": "code",
   "execution_count": null,
   "metadata": {},
   "outputs": [],
   "source": [
    "name = ['jenny', 'mary', 'sara']\n",
    "marks = [55, 60, 45]\n",
    "#for i in zip(name, marks):\n",
    "#    print(i)\n",
    "a = list(zip(name, marks))\n",
    "print(a)"
   ]
  },
  {
   "cell_type": "code",
   "execution_count": null,
   "metadata": {},
   "outputs": [],
   "source": [
    "# enumerate(iterable, start=0)\n",
    "# The enumerate() method adds counter to an iterable and returns it (the enumerate object). \n",
    "grocery = ['bread', 'milk', 'butter']\n",
    "enum_groc = enumerate(grocery)\n",
    "print([enum_groc])"
   ]
  },
  {
   "cell_type": "markdown",
   "metadata": {},
   "source": [
    "## Iteration Protocol\n",
    "\n",
    "based on two objects, used in two distinct steps by iteration tools:\n",
    "\n",
    "* The *iterable* object you request iteration for, whose **\\_\\_iter\\_\\_** is run by **iter**\n",
    "* The *iterator* object returned by the iterable that actually produces values during\n",
    "  the iteration, whose **\\_\\_next\\_\\_** is run by **next** and raises **StopIteration** when finished\n",
    "  producing results"
   ]
  },
  {
   "cell_type": "code",
   "execution_count": null,
   "metadata": {},
   "outputs": [],
   "source": [
    "f = open('file.txt')\n",
    "#dir(f)\n",
    "#print(f.read())\n",
    "\n",
    "f = iter(f)  # alternatively f.__iter__()\n",
    "next(f)      # alternatively f.__next__()  gives first line\n",
    "\n",
    "next(f)      # gives second line\n",
    "next(f)\n",
    "next(f)\n",
    "next(f)     # raise StopIterationa\n"
   ]
  },
  {
   "cell_type": "markdown",
   "metadata": {},
   "source": [
    "### filter(function, iterable):"
   ]
  },
  {
   "cell_type": "code",
   "execution_count": null,
   "metadata": {},
   "outputs": [],
   "source": [
    "#  filter(function, iterable):\n",
    "#  function - function that tests if elements of an iterable returns true or false\n",
    "#  If None, the function defaults to Identity function - which returns false if any elements are false\n",
    "\n",
    "# list of alphabets\n",
    "alphabets = ['a', 'b', 'd', 'e', 'i', 'j', 'o']\n",
    "\n",
    "# function that filters vowels\n",
    "def filterVowels(alphabet):\n",
    "    vowels = ['a', 'e', 'i', 'o', 'u']\n",
    "\n",
    "    if(alphabet in vowels):\n",
    "        return True\n",
    "    else:\n",
    "        return False\n",
    "\n",
    "filteredVowels = filter(filterVowels, alphabets)\n",
    "\n",
    "print('The filtered vowels are:')\n",
    "for vowel in filteredVowels:\n",
    "    print(vowel)"
   ]
  },
  {
   "cell_type": "markdown",
   "metadata": {},
   "source": [
    "###  More built-n functions"
   ]
  },
  {
   "cell_type": "code",
   "execution_count": null,
   "metadata": {},
   "outputs": [],
   "source": [
    "l1 = [4,7,2,8,5]\n",
    "sorted(l1)"
   ]
  },
  {
   "cell_type": "code",
   "execution_count": null,
   "metadata": {},
   "outputs": [],
   "source": [
    "l2 = ['f', 'd', 'f', 'r', 'k']\n",
    "sorted(l2)"
   ]
  },
  {
   "cell_type": "code",
   "execution_count": null,
   "metadata": {},
   "outputs": [],
   "source": [
    "scientists = ['Marie Curie', 'Albert Einstein', 'Niels Bohr',\n",
    "              'Isaac Newton', 'Dmitri Mendeleev', 'Antoine Lavoisier',\n",
    "              'Carl Linnaeus', 'Alfred Wegener', 'Charles Darwin']\n",
    "\n",
    "sorted(scientists, key=lambda name: name.split()[-1])"
   ]
  },
  {
   "cell_type": "markdown",
   "metadata": {},
   "source": [
    "## Generator"
   ]
  },
  {
   "cell_type": "code",
   "execution_count": null,
   "metadata": {},
   "outputs": [],
   "source": [
    "def gen_function():\n",
    "    for i in range(10):\n",
    "        yield i\n",
    "\n",
    "a = gen_function()\n",
    "a = list(a)\n",
    "print(a)"
   ]
  },
  {
   "cell_type": "code",
   "execution_count": null,
   "metadata": {},
   "outputs": [],
   "source": [
    "def fibon_l(n):\n",
    "    a = b = 1\n",
    "    result = [a, b]\n",
    "    for i in range(n):\n",
    "        a, b = b, a+b\n",
    "        result.append(b)\n",
    "    return result\n",
    "\n",
    "a = fibon_l(5)\n",
    "print(a)"
   ]
  },
  {
   "cell_type": "code",
   "execution_count": null,
   "metadata": {},
   "outputs": [],
   "source": [
    "### advantage of generator\n",
    "\n",
    "def fibon_g(n):\n",
    "    a = b = 1\n",
    "    for i in range(n):\n",
    "        yield a\n",
    "        a, b = b, a+b\n",
    "\n",
    "a = fibon_g(10)\n",
    "print(list(a))      "
   ]
  },
  {
   "cell_type": "markdown",
   "metadata": {},
   "source": [
    "## Comprehension"
   ]
  },
  {
   "cell_type": "code",
   "execution_count": null,
   "metadata": {},
   "outputs": [],
   "source": [
    "# List Comprehnsion\n",
    "multiple = [i for i in range(30) if i%3 == 0]\n",
    "print(multiple)"
   ]
  },
  {
   "cell_type": "code",
   "execution_count": null,
   "metadata": {},
   "outputs": [],
   "source": [
    "res = [x + y for x in 'abc' for y in 'lmn']  # nested list comprehension\n",
    "print(res)"
   ]
  },
  {
   "cell_type": "code",
   "execution_count": null,
   "metadata": {},
   "outputs": [],
   "source": [
    "# dictionary comprehension\n",
    "\n",
    "{j:i for i,j in {1:'a', 2:'b', 3:'c'}.items()}"
   ]
  },
  {
   "cell_type": "code",
   "execution_count": null,
   "metadata": {},
   "outputs": [],
   "source": [
    "mcase = {'a': 10, 'b':34, 'A':7, 'Z':3}\n",
    "\n",
    "mcase_freq = {\n",
    "    k.lower(): mcase.get(k.lower(),0) + mcase.get(k.upper(), 0)\n",
    "    for k in mcase.keys()\n",
    "}\n",
    "print(mcase_freq)"
   ]
  },
  {
   "cell_type": "code",
   "execution_count": null,
   "metadata": {},
   "outputs": [],
   "source": [
    "# Set Comprehension\n",
    "squared = {x**2 for x in [1, 1, 2]}\n",
    "squared"
   ]
  },
  {
   "cell_type": "code",
   "execution_count": null,
   "metadata": {},
   "outputs": [],
   "source": [
    "# Generator Comprehension or expression\n",
    "mul = (i for i in range(30) if i % 3 == 0)\n"
   ]
  },
  {
   "cell_type": "code",
   "execution_count": null,
   "metadata": {},
   "outputs": [],
   "source": [
    "a = dict()\n",
    "a.get?"
   ]
  },
  {
   "cell_type": "markdown",
   "metadata": {},
   "source": [
    "## Collection Protocols\n",
    "In Python, a protocol is a group of operations or methods that a type must support if it is to implement\n",
    "that protocol.\n",
    "\n",
    "* **Container protocol** : The container protocol requires that membership testing using the **in** and **not in** operators   be supported \n",
    "                e.g. str, list, dict, range, tuple, set, bytes\n",
    "* **sized protocol** :  requires that the number of elements in a collection can be determined by calling **len(sized_collection)**\n",
    "                e.g str, list, dict, range, tuple, set, bytes\n",
    "* **iterable protocol** iterables provide a means for yielding elements one-by-one as they are requested, can be used with *for* loops.\n",
    "                e.g str, list, dict, range, tuple, set, bytes\n",
    "* **sequence protocol** : requires that items can be retrieved using square brackets with an integer index, can be searched for with **index()**, can be counted with **count()**, a reversed copy of the sequence can be produced with **reversed()**.\n",
    "                e.g str, list, tuple, range, bytes"
   ]
  },
  {
   "cell_type": "code",
   "execution_count": null,
   "metadata": {},
   "outputs": [],
   "source": [
    "# __iter__, __next__, __getitem__, __setitem__, __delitem__, __len__, __contains__, "
   ]
  }
 ],
 "metadata": {
  "kernelspec": {
   "display_name": "Python 3",
   "language": "python",
   "name": "python3"
  },
  "language_info": {
   "codemirror_mode": {
    "name": "ipython",
    "version": 3
   },
   "file_extension": ".py",
   "mimetype": "text/x-python",
   "name": "python",
   "nbconvert_exporter": "python",
   "pygments_lexer": "ipython3",
   "version": "3.7.2"
  }
 },
 "nbformat": 4,
 "nbformat_minor": 2
}
