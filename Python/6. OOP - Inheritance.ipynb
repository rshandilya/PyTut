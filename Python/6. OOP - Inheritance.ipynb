{
 "cells": [
  {
   "cell_type": "markdown",
   "metadata": {},
   "source": [
    "## Inheritance\n",
    "\n",
    "### Single Inheritance\n",
    "\n",
    "    class SubClass(BaseClass):\n",
    "    # ..."
   ]
  },
  {
   "cell_type": "code",
   "execution_count": 2,
   "metadata": {},
   "outputs": [
    {
     "name": "stdout",
     "output_type": "stream",
     "text": [
      "Base initializer\n",
      "Base.f()\n"
     ]
    }
   ],
   "source": [
    "class Base:\n",
    "    def __init__(self):\n",
    "        print('Base initializer')\n",
    "    def f(self):\n",
    "        print('Base.f()')\n",
    "\n",
    "b = Base()\n",
    "b.f()"
   ]
  },
  {
   "cell_type": "code",
   "execution_count": 3,
   "metadata": {},
   "outputs": [],
   "source": [
    "class Sub(Base):\n",
    "    pass\n",
    "\n",
    "s = Sub()\n",
    "s.f()"
   ]
  },
  {
   "cell_type": "code",
   "execution_count": null,
   "metadata": {},
   "outputs": [],
   "source": [
    "class Sub(Base):\n",
    "    def f(self):              # Overriding method\n",
    "        print('Sub.f()')\n",
    "\n",
    "s = Sub()\n",
    "s.f()        "
   ]
  },
  {
   "cell_type": "code",
   "execution_count": null,
   "metadata": {},
   "outputs": [],
   "source": [
    "class Sub(Base):\n",
    "    def __init__(self):           # Subclass initializer\n",
    "        print('Sub initializer')  # Python __init__ method as any other method, override\n",
    "    \n",
    "    def f(self):\n",
    "        print('Sub.f()')\n",
    "\n",
    "s = Sub()\n",
    "s.f()             "
   ]
  },
  {
   "cell_type": "code",
   "execution_count": 4,
   "metadata": {},
   "outputs": [
    {
     "name": "stdout",
     "output_type": "stream",
     "text": [
      "Base initializer\n",
      "Sub initializer\n",
      "Sub.f()\n"
     ]
    }
   ],
   "source": [
    "class Sub(Base):\n",
    "    def __init__(self):\n",
    "        super().__init__()          # calling the base initialize\n",
    "        print('Sub initializer')\n",
    "    \n",
    "    def f(self):\n",
    "        print('Sub.f()')\n",
    "        \n",
    "s = Sub()\n",
    "s.f()                     "
   ]
  },
  {
   "cell_type": "markdown",
   "metadata": {},
   "source": [
    "### Realistic inheritance example: SortedList"
   ]
  },
  {
   "cell_type": "code",
   "execution_count": 2,
   "metadata": {},
   "outputs": [
    {
     "data": {
      "text/plain": [
       "SortedList([-42, 1, 3, 4, 7, 78])"
      ]
     },
     "execution_count": 2,
     "metadata": {},
     "output_type": "execute_result"
    }
   ],
   "source": [
    "class SimpleList:\n",
    "    def __init__(self, items):\n",
    "        self._items = list(items)\n",
    "    def add(self, item):\n",
    "        self._items.append(item)\n",
    "    def __getitem__(self, index):\n",
    "        return self._items[index]\n",
    "    def sort(self):\n",
    "        self._items.sort()\n",
    "    def __len__(self):\n",
    "        return len(self._items)\n",
    "    def __repr__(self):\n",
    "        return \"SimpleList({!r})\".format(self._items)\n",
    "    \n",
    "\n",
    "class SortedList(SimpleList):\n",
    "    def __init__(self, items=()):\n",
    "        super().__init__(items)\n",
    "        super().sort()\n",
    "    def add(self, item):\n",
    "        super().add(item)\n",
    "        self.sort()\n",
    "    def __repr__(self):\n",
    "        return \"SortedList({!r})\".format(list(self))\n",
    "    \n",
    "sl = SortedList([4, 3, 78, 1])\n",
    "sl.add(-42)\n",
    "sl.add(7)\n",
    "sl"
   ]
  },
  {
   "cell_type": "markdown",
   "metadata": {},
   "source": [
    "## Type inspection\n",
    "    isinstance()\n",
    "    issubclass()"
   ]
  },
  {
   "cell_type": "code",
   "execution_count": 3,
   "metadata": {},
   "outputs": [
    {
     "data": {
      "text/plain": [
       "True"
      ]
     },
     "execution_count": 3,
     "metadata": {},
     "output_type": "execute_result"
    }
   ],
   "source": [
    "sl = SortedList()\n",
    "isinstance(sl, SortedList)\n",
    "isinstance(sl, SimpleList)"
   ]
  },
  {
   "cell_type": "code",
   "execution_count": null,
   "metadata": {},
   "outputs": [],
   "source": [
    "# Checking multiple types at once\n",
    "x = []\n",
    "isinstance(x, (float, dict, list))"
   ]
  },
  {
   "cell_type": "code",
   "execution_count": 4,
   "metadata": {},
   "outputs": [
    {
     "data": {
      "text/plain": [
       "IntList([1, 2, 3, 4, 19])"
      ]
     },
     "execution_count": 4,
     "metadata": {},
     "output_type": "execute_result"
    }
   ],
   "source": [
    "class IntList(SimpleList):\n",
    "    def __init__(self, items=()):\n",
    "        for x in items:\n",
    "            self._validate(x)\n",
    "        super().__init__(items)\n",
    "    \n",
    "    @staticmethod\n",
    "    def _validate(x):\n",
    "        if not isinstance(x, int):\n",
    "            raise TypeError('IntList only supports integer values.')\n",
    "    \n",
    "    def add(self, item):\n",
    "        self._validate(item)\n",
    "        super().add(item)\n",
    "    \n",
    "    def __repr__(self):\n",
    "        return \"IntList({!r})\".format(list(self))\n",
    "    \n",
    "il = IntList([1, 2, 3 ,4])\n",
    "il.add(19)\n",
    "il    \n",
    "# il.add('5')"
   ]
  },
  {
   "cell_type": "code",
   "execution_count": null,
   "metadata": {},
   "outputs": [],
   "source": [
    "issubclass(IntList, SimpleList)\n",
    "issubclass(SortedList, SimpleList)\n",
    "issubclass(SortedList, IntList)"
   ]
  },
  {
   "cell_type": "code",
   "execution_count": null,
   "metadata": {},
   "outputs": [],
   "source": [
    "#Checking the inheritance graph\n",
    "class MyInt(int): pass\n",
    "class MyVerySpecialInt(MyInt): pass\n",
    "issubclass(MyVerySpecialInt, int)"
   ]
  },
  {
   "cell_type": "markdown",
   "metadata": {},
   "source": [
    "### Multiple inheritance\n",
    "\n",
    "Multiple inheritance simply means defining classes\n",
    "with more than one direct base-class. Multiple\n",
    "inheritance can lead to certain complex situations — for example, deciding what to do when\n",
    "more than one base class defines a particular method "
   ]
  },
  {
   "cell_type": "code",
   "execution_count": 1,
   "metadata": {},
   "outputs": [
    {
     "ename": "NameError",
     "evalue": "name 'IntList' is not defined",
     "output_type": "error",
     "traceback": [
      "\u001b[0;31m---------------------------------------------------------------------------\u001b[0m",
      "\u001b[0;31mNameError\u001b[0m                                 Traceback (most recent call last)",
      "\u001b[0;32m<ipython-input-1-98c8f0e0203f>\u001b[0m in \u001b[0;36m<module>\u001b[0;34m\u001b[0m\n\u001b[0;32m----> 1\u001b[0;31m \u001b[0;32mclass\u001b[0m \u001b[0mSortedIntList\u001b[0m\u001b[0;34m(\u001b[0m\u001b[0mIntList\u001b[0m\u001b[0;34m,\u001b[0m \u001b[0mSortedList\u001b[0m\u001b[0;34m)\u001b[0m\u001b[0;34m:\u001b[0m\u001b[0;34m\u001b[0m\u001b[0;34m\u001b[0m\u001b[0m\n\u001b[0m\u001b[1;32m      2\u001b[0m     \u001b[0;32mdef\u001b[0m \u001b[0m__repr__\u001b[0m\u001b[0;34m(\u001b[0m\u001b[0mself\u001b[0m\u001b[0;34m)\u001b[0m\u001b[0;34m:\u001b[0m\u001b[0;34m\u001b[0m\u001b[0;34m\u001b[0m\u001b[0m\n\u001b[1;32m      3\u001b[0m         \u001b[0;32mreturn\u001b[0m \u001b[0;34m\"SortedIntList({!r})\"\u001b[0m\u001b[0;34m.\u001b[0m\u001b[0mformat\u001b[0m\u001b[0;34m(\u001b[0m\u001b[0mlist\u001b[0m\u001b[0;34m(\u001b[0m\u001b[0mself\u001b[0m\u001b[0;34m)\u001b[0m\u001b[0;34m)\u001b[0m\u001b[0;34m\u001b[0m\u001b[0;34m\u001b[0m\u001b[0m\n\u001b[1;32m      4\u001b[0m \u001b[0;34m\u001b[0m\u001b[0m\n\u001b[1;32m      5\u001b[0m \u001b[0msil\u001b[0m \u001b[0;34m=\u001b[0m \u001b[0mSortedIntList\u001b[0m\u001b[0;34m(\u001b[0m\u001b[0;34m[\u001b[0m\u001b[0;36m42\u001b[0m\u001b[0;34m,\u001b[0m \u001b[0;36m23\u001b[0m\u001b[0;34m,\u001b[0m \u001b[0;36m2\u001b[0m\u001b[0;34m]\u001b[0m\u001b[0;34m)\u001b[0m\u001b[0;34m\u001b[0m\u001b[0;34m\u001b[0m\u001b[0m\n",
      "\u001b[0;31mNameError\u001b[0m: name 'IntList' is not defined"
     ]
    }
   ],
   "source": [
    "class SortedIntList(IntList, SortedList):\n",
    "    def __repr__(self):\n",
    "        return \"SortedIntList({!r})\".format(list(self))\n",
    "\n",
    "sil = SortedIntList([42, 23, 2])\n",
    "sil"
   ]
  },
  {
   "cell_type": "code",
   "execution_count": null,
   "metadata": {},
   "outputs": [],
   "source": [
    "SortedIntList([3, 2, '1'])\n",
    "sil.add(-1234)\n",
    "sil.add('uninteresting number')"
   ]
  },
  {
   "cell_type": "markdown",
   "metadata": {},
   "source": [
    "### Automatic initializer calls"
   ]
  },
  {
   "cell_type": "code",
   "execution_count": null,
   "metadata": {},
   "outputs": [],
   "source": [
    "class Base1:\n",
    "    def __init__(self):\n",
    "        print('Base1.__init__')\n",
    "\n",
    "class Base2:\n",
    "    def __init__(self):\n",
    "        print('Base2.__init__')\n",
    "\n",
    "class Sub(Base1, Base2):\n",
    "    pass\n",
    "\n",
    "s = Sub()  # Only the Base1 initializer is called"
   ]
  },
  {
   "cell_type": "markdown",
   "metadata": {},
   "source": [
    "### MRO: Method Resolution Order\n",
    "\n",
    "In Python, the method resolution order — or simply MRO — of a class is the ordering of a class’s inheritance graph used to determine which implementation to use when a method is invoked. Python uses an algorithm known as **C3 linearization** for determining MRO.\n",
    "* A C3 MRO ensures that subclasses come before their base-classes\n",
    "* C3 ensures that the base-class order as defined in a class definition is also preserved.\n",
    "* C3 preserves the first two qualities independent of where in an inheritance graph you\n",
    "  calculate the MRO."
   ]
  },
  {
   "cell_type": "code",
   "execution_count": 12,
   "metadata": {},
   "outputs": [
    {
     "data": {
      "text/plain": [
       "(__main__.SortedIntList,\n",
       " __main__.IntList,\n",
       " __main__.SortedList,\n",
       " __main__.SimpleList,\n",
       " object)"
      ]
     },
     "execution_count": 12,
     "metadata": {},
     "output_type": "execute_result"
    }
   ],
   "source": [
    "SortedIntList.__mro__  # Note the order IntList and Sortedlist, change the argument order and see effect"
   ]
  },
  {
   "cell_type": "code",
   "execution_count": 6,
   "metadata": {},
   "outputs": [
    {
     "data": {
      "text/plain": [
       "(__main__.IntList, __main__.SimpleList, object)"
      ]
     },
     "execution_count": 6,
     "metadata": {},
     "output_type": "execute_result"
    }
   ],
   "source": [
    "IntList.__mro__"
   ]
  },
  {
   "cell_type": "markdown",
   "metadata": {},
   "source": [
    "### Inconsistent MRO"
   ]
  },
  {
   "cell_type": "code",
   "execution_count": 7,
   "metadata": {},
   "outputs": [
    {
     "ename": "TypeError",
     "evalue": "Cannot create a consistent method resolution\norder (MRO) for bases A, C",
     "output_type": "error",
     "traceback": [
      "\u001b[0;31m---------------------------------------------------------------------------\u001b[0m",
      "\u001b[0;31mTypeError\u001b[0m                                 Traceback (most recent call last)",
      "\u001b[0;32m<ipython-input-7-c2a4db25cf52>\u001b[0m in \u001b[0;36m<module>\u001b[0;34m\u001b[0m\n\u001b[1;32m      2\u001b[0m \u001b[0;32mclass\u001b[0m \u001b[0mB\u001b[0m\u001b[0;34m(\u001b[0m\u001b[0mA\u001b[0m\u001b[0;34m)\u001b[0m\u001b[0;34m:\u001b[0m \u001b[0;32mpass\u001b[0m\u001b[0;34m\u001b[0m\u001b[0;34m\u001b[0m\u001b[0m\n\u001b[1;32m      3\u001b[0m \u001b[0;32mclass\u001b[0m \u001b[0mC\u001b[0m\u001b[0;34m(\u001b[0m\u001b[0mA\u001b[0m\u001b[0;34m)\u001b[0m\u001b[0;34m:\u001b[0m \u001b[0;32mpass\u001b[0m\u001b[0;34m\u001b[0m\u001b[0;34m\u001b[0m\u001b[0m\n\u001b[0;32m----> 4\u001b[0;31m \u001b[0;32mclass\u001b[0m \u001b[0mD\u001b[0m\u001b[0;34m(\u001b[0m\u001b[0mB\u001b[0m\u001b[0;34m,\u001b[0m \u001b[0mA\u001b[0m\u001b[0;34m,\u001b[0m \u001b[0mC\u001b[0m\u001b[0;34m)\u001b[0m\u001b[0;34m:\u001b[0m \u001b[0;32mpass\u001b[0m\u001b[0;34m\u001b[0m\u001b[0;34m\u001b[0m\u001b[0m\n\u001b[0m",
      "\u001b[0;31mTypeError\u001b[0m: Cannot create a consistent method resolution\norder (MRO) for bases A, C"
     ]
    }
   ],
   "source": [
    "class A: pass\n",
    "class B(A): pass\n",
    "class C(A): pass\n",
    "class D(B, A, C): pass"
   ]
  },
  {
   "cell_type": "markdown",
   "metadata": {},
   "source": [
    "## super()\n",
    "\n",
    "    Given a method resolution order and a class C in that MRO, super() gives you\n",
    "    an object which resolves methods using only the part of the MRO which comes\n",
    "    after C.\n",
    "### Bound and unbound proxies\n",
    "Calling super return a so-called *super proxy* object. You can call any method on a super proxy, and\n",
    "it will route that call to the correct method implementation if one exists. There are two high-level types of super proxies, bound and unbound. Bound proxies, as the name suggests, are bound to instances or class objects. On the other hand, unbound proxies aren’t connected to any instance, so don’t do any method dispatch themselves. Unbound\n",
    "proxies are primarily an implementation detail for other Python features. Bound proxies can be bound to either classes or instances of classes. We will call these class-bound and instancebound proxies, respectively\n",
    "\n",
    "### class-bound proxies\n",
    "To create a class-bound proxy, you use this form:\n",
    "        \n",
    "    super(base-class, derived-class)\n",
    "* Python finds the MRO for derived-class\n",
    "* It then finds base-class in that MRO\n",
    "* It takes everything after base-class in the MRO and finds the first class in that sequence with a method name matching the request."
   ]
  },
  {
   "cell_type": "code",
   "execution_count": 8,
   "metadata": {},
   "outputs": [
    {
     "data": {
      "text/plain": [
       "<super: __main__.SortedList, __main__.SortedIntList>"
      ]
     },
     "execution_count": 8,
     "metadata": {},
     "output_type": "execute_result"
    }
   ],
   "source": [
    "super(SortedList, SortedIntList)"
   ]
  },
  {
   "cell_type": "code",
   "execution_count": 9,
   "metadata": {},
   "outputs": [
    {
     "data": {
      "text/plain": [
       "<function __main__.SimpleList.add(self, item)>"
      ]
     },
     "execution_count": 9,
     "metadata": {},
     "output_type": "execute_result"
    }
   ],
   "source": [
    "super(SortedList, SortedIntList).add"
   ]
  },
  {
   "cell_type": "code",
   "execution_count": 10,
   "metadata": {},
   "outputs": [
    {
     "ename": "TypeError",
     "evalue": "add() missing 1 required positional argument: 'item'",
     "output_type": "error",
     "traceback": [
      "\u001b[0;31m---------------------------------------------------------------------------\u001b[0m",
      "\u001b[0;31mTypeError\u001b[0m                                 Traceback (most recent call last)",
      "\u001b[0;32m<ipython-input-10-565a4aa6b79a>\u001b[0m in \u001b[0;36m<module>\u001b[0;34m\u001b[0m\n\u001b[0;32m----> 1\u001b[0;31m \u001b[0msuper\u001b[0m\u001b[0;34m(\u001b[0m\u001b[0mSortedList\u001b[0m\u001b[0;34m,\u001b[0m \u001b[0mSortedIntList\u001b[0m\u001b[0;34m)\u001b[0m\u001b[0;34m.\u001b[0m\u001b[0madd\u001b[0m\u001b[0;34m(\u001b[0m\u001b[0;36m4\u001b[0m\u001b[0;34m)\u001b[0m\u001b[0;34m\u001b[0m\u001b[0;34m\u001b[0m\u001b[0m\n\u001b[0m",
      "\u001b[0;31mTypeError\u001b[0m: add() missing 1 required positional argument: 'item'"
     ]
    }
   ],
   "source": [
    " super(SortedList, SortedIntList).add(4)"
   ]
  },
  {
   "cell_type": "code",
   "execution_count": 11,
   "metadata": {},
   "outputs": [],
   "source": [
    "super(SortedIntList, SortedIntList)._validate(5)\n",
    "#super(SortedIntList, SortedIntList)._validate('hello')"
   ]
  },
  {
   "cell_type": "markdown",
   "metadata": {},
   "source": [
    "### Instance-bound proxies\n",
    "\n",
    "    super(class, instance-of-class)\n",
    "Here, the first argument must be a class object, and the second argument must be an instance\n",
    "of that class or any class derived from it.\n",
    "* Python finds the MRO for the type of the second argument\n",
    "* Then Python finds the location of the first argument to super() in that MRO;\n",
    "* Finally, Python takes everything in the MRO after the class and uses that as the MRO\n",
    "  for resolving methods."
   ]
  },
  {
   "cell_type": "code",
   "execution_count": 15,
   "metadata": {},
   "outputs": [
    {
     "data": {
      "text/plain": [
       "<super: __main__.SortedList, SortedIntList([5, 10, 15])>"
      ]
     },
     "execution_count": 15,
     "metadata": {},
     "output_type": "execute_result"
    }
   ],
   "source": [
    "sil = SortedIntList([5, 15, 10])\n",
    "super(SortedList, sil)"
   ]
  },
  {
   "cell_type": "code",
   "execution_count": 16,
   "metadata": {},
   "outputs": [
    {
     "data": {
      "text/plain": [
       "SortedIntList([5, 10, 15, 6])"
      ]
     },
     "execution_count": 16,
     "metadata": {},
     "output_type": "execute_result"
    }
   ],
   "source": [
    "super(SortedList, sil).add(6)\n",
    "sil"
   ]
  },
  {
   "cell_type": "markdown",
   "metadata": {},
   "source": [
    "### The no-argument versions\n",
    "It turns out that you can call super() in a method with no arguments, and Python will sort\n",
    "out the arguments for you.\n",
    "\n",
    "* If you’re *in an instance method* (that is, a method which takes an instance as its first argument) and you call super() without arguments, that’s the same as calling super() with the method’s class as the first argument and self as the second.\n",
    "\n",
    "* If you call super() without arguments *in a class method*, Python sets the arguments for you so that it’s equivalent to calling super() with the method’s class as the first argument and the classmethods first argument (that is, the “class” argument) as the second. "
   ]
  }
 ],
 "metadata": {
  "kernelspec": {
   "display_name": "Python 3",
   "language": "python",
   "name": "python3"
  },
  "language_info": {
   "codemirror_mode": {
    "name": "ipython",
    "version": 3
   },
   "file_extension": ".py",
   "mimetype": "text/x-python",
   "name": "python",
   "nbconvert_exporter": "python",
   "pygments_lexer": "ipython3",
   "version": "3.7.2"
  }
 },
 "nbformat": 4,
 "nbformat_minor": 2
}
