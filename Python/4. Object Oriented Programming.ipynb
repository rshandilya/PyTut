{
 "cells": [
  {
   "cell_type": "markdown",
   "metadata": {},
   "source": [
    "# Object Oriented Programming"
   ]
  },
  {
   "cell_type": "markdown",
   "metadata": {},
   "source": [
    "#### Class Objects Provide Default Behavior\n",
    "\n",
    "* The **class** statement creates a class object and assigns it a name.\n",
    "* Assignments inside class statements make class attributes. \n",
    "* Class attributes provide object state and behavior.\n",
    "\n",
    "#### Instance Objects Are Concrete Items\n",
    "\n",
    "* Calling a class object like a function makes a new instance object. \n",
    "* Each instance object inherits class attributes and gets its own namespace.\n",
    "* Assignments to attributes of self in methods make per-instance attributes.\n",
    "\n",
    "#### Classes Are Customized by Inheritance\n",
    "\n",
    "* Superclasses are listed in parentheses in a class header.\n",
    "* Classes inherit attributes from their superclasses. \n",
    "* Instances inherit attributes from all accessible classes.\n",
    "* Each object.attribute reference invokes a new, independent search.\n",
    "* Logic changes are made by subclassing, not by changing superclasses.\n",
    "\n",
    "#### Classes Can Intercept Python Operators\n",
    "\n",
    "* Methods named with double underscores (\\_\\_X\\_\\_) are special hooks.\n",
    "* Such methods are called automatically when instances appear in built-in operations.\n",
    "* Classes may override most built-in type operations.\n",
    "* There are no defaults for common operator overloading methods, and none are required.\n",
    "* Operators allow classes to integrate with Python’s object model.\n"
   ]
  },
  {
   "cell_type": "code",
   "execution_count": 2,
   "metadata": {},
   "outputs": [],
   "source": [
    "# Making Instance\n",
    "class Person:\n",
    "    def __init__(self, name, job=None, pay=0):       # Coding Constructors\n",
    "        self.name = name\n",
    "        self.job = job\n",
    "        self.pay = pay\n",
    "    \n",
    "    # Adding Behavior Methods\n",
    "    def lastName(self): # Behavior methods\n",
    "        return self.name.split()[-1] # self is implied subject\n",
    "    \n",
    "    def giveRaise(self, percent):\n",
    "        self.pay = int(self.pay * (1 + percent))\n",
    "    \n",
    "    # Operator Overloading\n",
    "    def __repr__(self): \n",
    "        return '[Person: %s, %s]' % (self.name, self.pay)\n",
    "\n",
    "# Inherit, Customize, and Extend\n",
    "class Manager(Person):\n",
    "    \n",
    "    def __init__(self, name, pay): # Redefine constructor\n",
    "        Person.__init__(self, name, 'mgr', pay)\n",
    "    \n",
    "    def giveRaise(self, percent, bonus=.10):       \n",
    "        Person.giveRaise(self, percent + bonus)"
   ]
  }
 ],
 "metadata": {
  "kernelspec": {
   "display_name": "Python 3",
   "language": "python",
   "name": "python3"
  },
  "language_info": {
   "codemirror_mode": {
    "name": "ipython",
    "version": 3
   },
   "file_extension": ".py",
   "mimetype": "text/x-python",
   "name": "python",
   "nbconvert_exporter": "python",
   "pygments_lexer": "ipython3",
   "version": "3.7.2"
  }
 },
 "nbformat": 4,
 "nbformat_minor": 2
}
