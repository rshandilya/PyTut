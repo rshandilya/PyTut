{
 "cells": [
  {
   "cell_type": "markdown",
   "metadata": {},
   "source": [
    "# Queues\n",
    "### ADT for queues\n",
    "\n",
    "**Q = Queue()** : Instance of queue.\n",
    "\n",
    "**Q.enqueue(e)** : Add element e to the back of queue Q.\n",
    "\n",
    "**Q.dequeue( )** : Remove and return the first element from queue Q; an error occurs if the queue is empty.\n",
    "\n",
    "**Q.first( )** : Return a reference to the element at the front of queue Q, without removing it; an error occurs if the queue is empty.\n",
    "\n",
    "**Q.is empty( )** : Return True if queue Q does not contain any elements.\n",
    "\n",
    "**len(Q)** : Return the number of elements in queue Q; in Python, we implement this with the special method len .\n"
   ]
  },
  {
   "cell_type": "code",
   "execution_count": null,
   "metadata": {},
   "outputs": [],
   "source": [
    "class Empty(Exception):\n",
    "    \"\"\"Error attempting to access an element from an empty container.\"\"\"\n",
    "    pass"
   ]
  },
  {
   "cell_type": "code",
   "execution_count": 2,
   "metadata": {},
   "outputs": [],
   "source": [
    "class ArrayQueue:\n",
    "    \"\"\"FIFO queue implementation using a Python list as underlying storage.\"\"\"\n",
    "    DEFAULT_CAPACITY = 10 # moderate capacity for all new queues\n",
    "\n",
    "    def __init__ (self):\n",
    "        \"\"\"Create an empty queue.\"\"\"\n",
    "        self._data = [None] * ArrayQueue.DEFAULT_CAPACITY\n",
    "        self._size = 0\n",
    "        self._front = 0\n",
    "\n",
    "    def __len__ (self):\n",
    "        \"\"\"Return the number of elements in the queue.\"\"\"\n",
    "        return self._size\n",
    "\n",
    "    def is_empty(self):\n",
    "        \"\"\"Return True if the queue is empty.\"\"\"\n",
    "        return self._size == 0\n",
    "\n",
    "    def first(self):\n",
    "        \"\"\"Return (but do not remove) the element at the front of the queue.\n",
    "        Raise Empty exception if the queue is empty.\n",
    "        \"\"\"\n",
    "        if self.is_empty():\n",
    "            raise Empty( \"Queue is empty\" )\n",
    "        return self._data[self._front]\n",
    "\n",
    "    def dequeue(self):\n",
    "        \"\"\"Remove and return the first element of the queue (i.e., FIFO).\n",
    "        Raise Empty exception if the queue is empty.\n",
    "        \"\"\"\n",
    "        if self.is_empty():\n",
    "            raise Empty( \"Queue is empty\" )\n",
    "        answer = self._data[self._front]\n",
    "        self._data[self._front] = None # help garbage collection\n",
    "        self._front = (self._front + 1) % len(self._data)   ## why?\n",
    "        self._size -= 1\n",
    "        return answer\n",
    "\n",
    "    def enqueue(self, e):\n",
    "        \"\"\"Add an element to the back of queue.\"\"\"\n",
    "        if self._size == len(self._data):\n",
    "            self._resize(2 * len(self.data)) # double the array size\n",
    "            avail = (self._front + self._size) % len(self._data)\n",
    "            self._data[avail] = e\n",
    "            self._size += 1\n",
    "\n",
    "    def resize(self, cap): # we assume cap >= len(self)\n",
    "        \"\"\"Resize to a new list of capacity >= len(self).\"\"\"\n",
    "        old = self._data # keep track of existing list\n",
    "        self._data = [None] * cap # allocate list with new capacity\n",
    "        walk = self._front\n",
    "        for k in range(self._size): # only consider existing elements\n",
    "            self._data[k] = old[walk] # intentionally shift indices\n",
    "            walk = (1 + walk) % len(old) # use old size as modulus\n",
    "            self._front = 0 # front has been realigned"
   ]
  }
 ],
 "metadata": {
  "kernelspec": {
   "display_name": "Python 3",
   "language": "python",
   "name": "python3"
  },
  "language_info": {
   "codemirror_mode": {
    "name": "ipython",
    "version": 3
   },
   "file_extension": ".py",
   "mimetype": "text/x-python",
   "name": "python",
   "nbconvert_exporter": "python",
   "pygments_lexer": "ipython3",
   "version": "3.7.2"
  }
 },
 "nbformat": 4,
 "nbformat_minor": 2
}
