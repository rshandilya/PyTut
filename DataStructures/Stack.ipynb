{
 "cells": [
  {
   "cell_type": "markdown",
   "metadata": {},
   "source": [
    "# Stack \n",
    "### ADT of Stack\n",
    "\n",
    "**S = Stack()**  : instance of Stack class \n",
    "\n",
    "**S.push(e)**    : Add element e to the top of stack S\n",
    "\n",
    "**S.pop( )**     : Remove and return the top element from the stack S; an error occurs if the stack is empty.\n",
    "\n",
    "**S.top( )**     : Return a reference to the top element of stack S, without removing it; an error occurs if the stack is empty.\n",
    "\n",
    "**S.is empty( )** : Return True if stack S does not contain any elements.\n",
    "\n",
    "**len(S)**        : Return the number of elements in stack S;"
   ]
  },
  {
   "cell_type": "code",
   "execution_count": 8,
   "metadata": {},
   "outputs": [],
   "source": [
    "class Empty(Exception):\n",
    "    \"\"\"Error attempting to access an element from an empty container.\"\"\"\n",
    "    pass"
   ]
  },
  {
   "cell_type": "code",
   "execution_count": 13,
   "metadata": {},
   "outputs": [
    {
     "name": "stdout",
     "output_type": "stream",
     "text": [
      "2\n",
      "3\n",
      "False\n",
      "5\n",
      "True\n",
      "9\n",
      "3\n",
      "4\n"
     ]
    }
   ],
   "source": [
    "class ArrayStack:\n",
    "    \"\"\"LIFO Stack implementation using a Python list as underlying storage.\"\"\"\n",
    "\n",
    "    def __init__ (self):\n",
    "        \"\"\"Create an empty stack.\"\"\"\n",
    "        self.data = [ ] # nonpublic list instance\n",
    "\n",
    "    def __len__(self):\n",
    "        \"\"\"Return the number of elements in the stack.\"\"\"\n",
    "        return len(self.data)\n",
    "\n",
    "    def is_empty(self):\n",
    "        \"\"\"Return True if the stack is empty.\"\"\"\n",
    "        return len(self.data) == 0\n",
    "\n",
    "    def push(self, e):\n",
    "        \"\"\"Add element e to the top of the stack.\"\"\"\n",
    "        self.data.append(e) # new item stored at end of list\n",
    "\n",
    "    def top(self):\n",
    "        \"\"\"Return (but do not remove) the element at the top of the stack.\n",
    "           Raise Empty exception if the stack is empty.\n",
    "        \"\"\"\n",
    "        if self.is_empty():\n",
    "            raise Empty( \"Stack is empty\" )\n",
    "        return self.data[-1] # the last item in the list\n",
    "\n",
    "    def pop(self):\n",
    "        \"\"\"Remove and return the element from the top of the stack (i.e., LIFO).\n",
    "        Raise Empty exception if the stack is empty.\n",
    "        \"\"\"\n",
    "        if self.is_empty():\n",
    "            raise Empty( \"Stack is empty\" )\n",
    "        return self.data.pop( ) # remove last item from list\n",
    "\n",
    "if __name__ == '__main__':\n",
    "    S = ArrayStack( )    # contents: [ ]\n",
    "    S.push(5)            # contents: [5]\n",
    "    S.push(3)            # contents: [5, 3]\n",
    "    print(len(S))        # contents: [5, 3]; outputs 2\n",
    "    print(S.pop())       # contents: [5]; outputs 3\n",
    "    print(S.is_empty())  # contents: [5]; outputs False\n",
    "    print(S.pop())       # contents: [ ]; outputs 5\n",
    "    print(S.is_empty())  # contents: [ ]; outputs True\n",
    "    S.push(7)            # contents: [7]\n",
    "    S.push(9)            # contents: [7, 9]\n",
    "    print(S.top())       # contents: [7, 9]; outputs 9\n",
    "    S.push(4)            # contents: [7, 9, 4]\n",
    "    print(len(S))        # contents: [7, 9, 4]; outputs 3\n",
    "    print(S.pop())       # contents: [7, 9]; outputs 4\n",
    "    S.push(6)            # contents: [7, 9, 6]"
   ]
  }
 ],
 "metadata": {
  "kernelspec": {
   "display_name": "Python 3",
   "language": "python",
   "name": "python3"
  },
  "language_info": {
   "codemirror_mode": {
    "name": "ipython",
    "version": 3
   },
   "file_extension": ".py",
   "mimetype": "text/x-python",
   "name": "python",
   "nbconvert_exporter": "python",
   "pygments_lexer": "ipython3",
   "version": "3.7.2"
  }
 },
 "nbformat": 4,
 "nbformat_minor": 2
}
